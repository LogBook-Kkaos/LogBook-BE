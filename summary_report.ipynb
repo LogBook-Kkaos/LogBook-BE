{
 "cells": [
  {
   "cell_type": "code",
   "execution_count": 5,
   "metadata": {},
   "outputs": [],
   "source": [
    "import openai"
   ]
  },
  {
   "cell_type": "code",
   "execution_count": 7,
   "metadata": {},
   "outputs": [],
   "source": [
    "openai.api_key = ''"
   ]
  },
  {
   "cell_type": "code",
   "execution_count": 20,
   "metadata": {},
   "outputs": [],
   "source": [
    "def get_response_from_gpt3(content):\n",
    "  openai.ChatCompletion.create(\n",
    "    model=\"gpt-3.5-turbo\",\n",
    "    messages=[\n",
    "          {\"role\": \"system\", \"content\": \"You are a helpful assistant.\"},\n",
    "          {\"role\": \"user\", \"content\": content},\n",
    "      ]\n",
    "  )\n",
    "\n",
    "  return completion.choices[0].message.content"
   ]
  },
  {
   "cell_type": "code",
   "execution_count": 21,
   "metadata": {},
   "outputs": [],
   "source": [
    "document = \"\"\"\n",
    "<h2 id=\"관리자-서비스\">\n",
    "  관리자 서비스\n",
    "<button class=\"btn_loc\" type=\"button\">Copy</button></h2>\n",
    "<p>카카오워크에서는 고객사의 업무 환경과 요구 사항에 맞는 커스텀 Bot의 개발을 지원하기 위해 <a href=\"https://admin.kakaowork.com/\" target=\"_blank\">[Admin 사이트] 관리자 서비스</a>를 별도로 제공하고 있습니다. 카카오워크 서버에서 기본적으로 제공하고 있는 Bot 관리뿐만 아니라 원하는 기능을 가진 커스텀 Bot을 생성하고 수정 및 관리를 할 수 있습니다.<br></p>\n",
    "<p>관리자 서비스에서 제공하는 대표적인 기능은 다음과 같습니다.\n",
    "</p>\n",
    "<blockquote class=\"book-hint simple\">\n",
    "  <ul>\n",
    "<li>Bot 개발자 등록</li>\n",
    "<li>카카오워크 서버에 기본으로 등록되어 제공되는 기본 Bot의 관리</li>\n",
    "<li>커스텀 Bot 생성, 수정 및 관리</li>\n",
    "</ul>\n",
    "\n",
    "</blockquote>\n",
    "<p style=\"margin: 0px; line-height: 0;\"></p>\n",
    "<em class=\"caption-tbl\">표<span class=\"txt_bar\"></span>관리자 서비스 정보</em>\n",
    "<div class=\"scroll_tbl\">\n",
    "   <table class=\"tbl_property\">\n",
    "      <thead>\n",
    "         <tr>\n",
    "            <th style=\"text-align: center;\" width=\"40%\">명칭</th>\n",
    "            <th style=\"text-align: center;\">링크</th>\n",
    "         </tr>\n",
    "      </thead>\n",
    "      <tbody>\n",
    "         <tr>\n",
    "            <td style=\"text-align: center;\">관리자 서비스</td>\n",
    "            <td style=\"text-align: center;\"><a href=\"https://admin.kakaowork.com/\" target=\"_blank\">admin.kakaowork.com</a></td>\n",
    "         </tr>\n",
    "      </tbody>\n",
    "   </table>\n",
    "</div>\n",
    "<blockquote class=\"book-hint info\">\n",
    "  <strong>안내</strong><br>\n",
    "관리자 서비스에 접근이 불가능한 경우 참여 중인 워크스페이스의 개설자에게 문의하시기 바랍니다.\n",
    "</blockquote>\n",
    "<p>관리자 서비스에는 <strong>슈퍼 관리자</strong>, <strong>관리자</strong>, <strong>Bot 개발자</strong> 등의 권한이 있으며, Bot 개발을 위해 아래의 <strong>표| 관리자 서비스 권한 정보</strong>에서 각 권한의 상세 내용을 참고하시기 바랍니다.</p>\n",
    "<em class=\"caption-tbl\">표<span class=\"txt_bar\"></span>관리자 서비스 권한 정보</em>\n",
    "<div class=\"scroll_tbl\">\n",
    "    <table class=\"tbl_property\">\n",
    "        <thead>\n",
    "            <tr>\n",
    "                <!-- 헤더 -->\n",
    "                <th style=\"text-align: center;\" width=\"30%\">권한 명</th>\n",
    "                <th style=\"text-align: center;\">권한 사항</th>\n",
    "            </tr>\n",
    "        </thead>\n",
    "        <tbody>\n",
    "            <tr>\n",
    "               <td>슈퍼 관리자<br>(스페이스 개설자)</td>\n",
    "               <td>워크스페이스 개설자로서 스페이스의 모든 권한을 관리<br>- 슈퍼 관리자는 멤버에게 관리자 권한 혹은 개발자 권한 부여 가능<br>- 슈퍼 관리자도 개발자로 등록하여 Bot 개발 가능</td>\n",
    "            </tr>\n",
    "            <tr>\n",
    "               <td>관리자</td>\n",
    "               <td>슈퍼 관리자 또는 기존 관리자로부터 권한을 부여받은 멤버<br>- 개발자 권한을 부여하려면 <strong>봇 관리</strong> 메뉴에 대한 설정 권한을 받아야 함<br>- <strong>봇 관리</strong> 메뉴에 대한 권한을 받은 관리자는 멤버에게 개발자 권한 부여 가능<br>- 관리자도 개발자로 등록하여 Bot 개발 가능</td>\n",
    "            </tr>\n",
    "            <tr>\n",
    "               <td>Bot 개발자</td>\n",
    "               <td><strong>봇 관리 &gt; Bot 개발</strong> 메뉴에만 접근 가능<br>- 슈퍼 관리자 혹은 관리자로부터 개발자 권한을 부여받아야 함<br>- Bot 개발자 권한을 부여받은 후에 관리자 서비스에 로그인하여 Bot 개발 가능</td>\n",
    "            </tr>\n",
    "        </tbody>\n",
    "    </table>\n",
    "</div>\n",
    "\"\"\""
   ]
  },
  {
   "cell_type": "code",
   "execution_count": 22,
   "metadata": {},
   "outputs": [],
   "source": [
    "release_note_format = \"\"\"\n",
    "{\n",
    "    \"title\": \"<Release note title>\",\n",
    "    \"overview\": \"Overview of Changes\",\n",
    "    \"affectedUsers\": \"Description of affected users\",\n",
    "    \"newFeatures\": \"enhancements or new features/functionalities\",\n",
    "    \"fixedIssues\": \"fixed issues\",\n",
    "    \"challenges\": \"<ongoing issues/challenges/obstacles/limitations and plans>\"\n",
    "}\n",
    "\"\"\""
   ]
  },
  {
   "cell_type": "code",
   "execution_count": 23,
   "metadata": {},
   "outputs": [],
   "source": [
    "content = f\"\"\"I want you to summarize the following document as a release note in Korean:\n",
    "\n",
    "document:\n",
    "```\n",
    "{document}\n",
    "```\n",
    "\n",
    "release note format:\n",
    "```JSON\n",
    "{release_note_format}\n",
    "```\n",
    "\n",
    "\n",
    "\"\"\""
   ]
  },
  {
   "cell_type": "code",
   "execution_count": null,
   "metadata": {},
   "outputs": [],
   "source": [
    "response = get_response_from_gpt3(content)\n",
    "\n",
    "print(response)"
   ]
  },
  {
   "cell_type": "code",
   "execution_count": null,
   "metadata": {},
   "outputs": [],
   "source": []
  }
 ],
 "metadata": {
  "kernelspec": {
   "display_name": "Python 3.10.10 64-bit",
   "language": "python",
   "name": "python3"
  },
  "language_info": {
   "codemirror_mode": {
    "name": "ipython",
    "version": 3
   },
   "file_extension": ".py",
   "mimetype": "text/x-python",
   "name": "python",
   "nbconvert_exporter": "python",
   "pygments_lexer": "ipython3",
   "version": "3.10.10"
  },
  "orig_nbformat": 4,
  "vscode": {
   "interpreter": {
    "hash": "aee8b7b246df8f9039afb4144a1f6fd8d2ca17a180786b69acc140d282b71a49"
   }
  }
 },
 "nbformat": 4,
 "nbformat_minor": 2
}
